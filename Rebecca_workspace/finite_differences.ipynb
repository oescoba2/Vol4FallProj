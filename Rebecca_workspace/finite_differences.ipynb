{
 "cells": [
  {
   "cell_type": "code",
   "execution_count": 2,
   "id": "3a5163f4-fd59-4338-8764-5dfef8f75747",
   "metadata": {},
   "outputs": [],
   "source": [
    "import numpy as np\n",
    "import matplotlib.pyplot as plt\n",
    "from numpy import linalg as la\n",
    "from scipy.integrate import solve_ivp\n",
    "from scipy import sparse\n",
    "from scipy.integrate import solve_bvp\n",
    "from matplotlib.pyplot import figure\n",
    "%matplotlib inline\n",
    "\n",
    "import matplotlib.animation as animation"
   ]
  },
  {
   "cell_type": "markdown",
   "id": "a202be85-2203-4e8b-8993-5134fa92ce6f",
   "metadata": {},
   "source": [
    "# Equations to Model\n",
    "\n",
    "Tumors $\\rightarrow$ Mass? or Num of cells\n",
    "\n",
    "Breast cancer Gompertz model  $\\rightarrow \\frac{dT}{dt} = k_g*T*ln(\\frac{T_{max}}{T})$\n",
    "\n",
    "Create two functions:\n",
    "\n",
    "1. Gompertz Model\n",
    "2. Add a Treatment Function"
   ]
  },
  {
   "cell_type": "markdown",
   "id": "0741c55a-88a4-4a27-9082-100df15e86dc",
   "metadata": {},
   "source": [
    "## Homogenous Breast Cancer growth"
   ]
  },
  {
   "cell_type": "code",
   "execution_count": 3,
   "id": "e3a1be75-4b59-4865-8e7d-68427c7dc946",
   "metadata": {},
   "outputs": [],
   "source": [
    "def Gompertz(k,Tmax,t):\n",
    "    \"\"\"\n",
    "    Solve T' = k*T*ln(Tmax/T)\n",
    "    \n",
    "    k (constant): \n",
    "    Tmax (constant): \n",
    "    t ((n,)ndarray): The array of time values\n",
    "    \"\"\""
   ]
  },
  {
   "cell_type": "markdown",
   "id": "d2f989b5-2782-49c7-abe3-4f50d73ffccf",
   "metadata": {},
   "source": [
    "## Breast Cancer Treatment"
   ]
  },
  {
   "cell_type": "code",
   "execution_count": null,
   "id": "068f68bc-982a-44f2-8a13-6f93edae0daa",
   "metadata": {},
   "outputs": [],
   "source": []
  }
 ],
 "metadata": {
  "kernelspec": {
   "display_name": "Python 3 (ipykernel)",
   "language": "python",
   "name": "python3"
  },
  "language_info": {
   "codemirror_mode": {
    "name": "ipython",
    "version": 3
   },
   "file_extension": ".py",
   "mimetype": "text/x-python",
   "name": "python",
   "nbconvert_exporter": "python",
   "pygments_lexer": "ipython3",
   "version": "3.10.14"
  }
 },
 "nbformat": 4,
 "nbformat_minor": 5
}
