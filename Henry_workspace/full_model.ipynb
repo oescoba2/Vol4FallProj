{
 "cells": [
  {
   "cell_type": "code",
   "execution_count": null,
   "metadata": {},
   "outputs": [],
   "source": [
    "import numpy as np\n",
    "import matplotlib.pyplot as plt\n",
    "from numpy import linalg as la\n",
    "from scipy.integrate import solve_ivp\n",
    "from scipy import sparse\n",
    "from scipy.integrate import solve_bvp\n",
    "from matplotlib.pyplot import figure\n",
    "%matplotlib inline\n",
    "\n",
    "import matplotlib.animation as animation\n"
   ]
  },
  {
   "cell_type": "code",
   "execution_count": null,
   "metadata": {},
   "outputs": [],
   "source": [
    "def GompertzFE(t,k,Tmax,x0):\n",
    "    \"\"\" Numerically approximates the x value from IVP: \n",
    "    \n",
    "    T' = k*T*ln(Tmax/T)\n",
    "    \n",
    "    using the Forward Euler method. \n",
    "    Parameters:\n",
    "        t ((n,)ndarray): The time values\n",
    "        k (float): The rate of tumor growth\n",
    "        Tmax (float): The maximum Tumor Burden \n",
    "        x0 (float): The initial condition\n",
    "    Returns:\n",
    "        T ((n,) ndarray): The tumor burden\n",
    "    \"\"\"\n",
    "    # Define h, X and X0 \n",
    "    ht = abs(t[0] - t[1])\n",
    "    # Initialize T as all zeros\n",
    "    T = np.zeros(len(t))\n",
    "    T[0] = x0\n",
    "    # Calculate U \n",
    "    for j in range(len(t)-1):\n",
    "        T[j+1] = T[j] + ht*k*T[j]*np.log(Tmax/T[j])\n",
    "    return T\n",
    "\n"
   ]
  },
  {
   "cell_type": "markdown",
   "metadata": {},
   "source": [
    "We modified the growth rate to near carrying capacity around 2 years after the start of untreated breast cancer. "
   ]
  },
  {
   "cell_type": "code",
   "execution_count": 20,
   "metadata": {},
   "outputs": [
    {
     "data": {
      "image/png": "[encoded data removed]",
      "text/plain": [
       "<Figure size 640x480 with 1 Axes>"
      ]
     },
     "metadata": {},
     "output_type": "display_data"
    }
   ],
   "source": [
    "# define the ODE function\n",
    "def ode(t, y, k, T_max):\n",
    "    '''defines the ODE system'''\n",
    "    T = y\n",
    "    return np.array([k*T*np.log(T_max / T)])\n",
    "\n",
    "\n",
    "# the time domain.\n",
    "t_span = (0,1000)\n",
    "\n",
    "# initial guess\n",
    "y0 = np.array([1])\n",
    "\n",
    "# solve the system\n",
    "a = 1/90\n",
    "T_max = 1/(1.02e-9)\n",
    "sol = solve_ivp(ode, t_span, y0, args=[a, T_max], max_step=0.1)\n",
    "\n",
    "# plot\n",
    "plt.plot(sol.t, sol.y[0])\n",
    "plt.xlabel('t')\n",
    "plt.ylabel(\"y(t)\")\n",
    "\n",
    "plt.title(\"Gompertz growth\")\n",
    "plt.tight_layout()\n",
    "plt.show()\n"
   ]
  },
  {
   "cell_type": "markdown",
   "metadata": {},
   "source": [
    "Include up to 15 chemotreatments. Do 1 round each 1,2 or 3 weeks"
   ]
  },
  {
   "cell_type": "code",
   "execution_count": null,
   "metadata": {},
   "outputs": [
    {
     "name": "stderr",
     "output_type": "stream",
     "text": [
      "/var/folders/zl/1w6b2xdd3k1djjqk561_wwr40000gr/T/ipykernel_9131/2388089936.py:12: RuntimeWarning: invalid value encountered in log\n",
      "  gompertz = a*T*np.log(T_max / T)\n"
     ]
    }
   ],
   "source": [
    "# define the ODE function\n",
    "def breast_cancer_ode(t, y, a, T_max, mu, gamma, alpha, d, s, lam, sigma, f, g, h, p, m, j, k, q, r, chemo_start):\n",
    "    \"\"\" Model for breast cancer growth dependent on chemotherapy and 2 different immune system\n",
    "    cells.\n",
    "\n",
    "    Parameters:\n",
    "\n",
    "    \n",
    "    \"\"\"\n",
    "\n",
    "    T, N, L = y\n",
    "    gompertz = a*T*np.log(T_max / T)\n",
    "    ct = np.exp(-gamma*t)\n",
    "    D = d * ((L/T)**lam)/(s + (L/T)**lam) * T\n",
    "\n",
    "\n",
    "    eqT = gompertz - mu*ct*T - alpha*N*T - D\n",
    "    eqN = sigma - f*N + N*(g*T**2)/(h + T**2) - p*N*T\n",
    "    eqL = -m*L +  L*(j*D**2)/(k+D**2) - q*L*T + r*N*T\n",
    "    return np.array([eqT, eqN, eqL])\n",
    "\n",
    "# Choose model parameters\n",
    "a, T_max = 1/90, 1/(1.023-9) # gompertz parameters\n",
    "\n",
    "mu, gamma = 0.9, 0.92 # chemotherapy parameters\n",
    "t_c = 100 # time we start chemotherapy\n",
    "\n",
    "alpha = 3.23e-7 # name for 'c' the kill rate of untrained killer cells\n",
    "\n",
    "d, s, lam = 5.80, 2.5e-1, 1.36 # parameters for D\n",
    "\n",
    "# parameters for derivative of N, number of killer cells\n",
    "sigma, f, g, h, p = 1.3e4, 4.12e-2, 2.5e-2, 2.02e7, 1e-7\n",
    "\n",
    "# parameters for derivative of L, the CD8 cells\n",
    "m, j, k, q, r = 2e-2, 3.75-2, 2e7, 3.42e-10, 1.1e-7\n",
    "\n",
    "\n",
    "# the time domain and initial guess\n",
    "t_span = (0.1, 365*2) # 2 years\n",
    "y0 = np.array([1, 1, 1]) # Tumor burden, Nk cells, CD8 cells\n",
    "\n",
    "# day we start chemo\n",
    "chemo_start = 100\n",
    "\n",
    "# solve the system\n",
    "sol = solve_ivp(breast_cancer_ode, t_span, y0, args=[a, T_max, mu, gamma, alpha, d, s, lam, sigma, f, g, h, p, m, j, k, q, r, chemo_start], max_step=0.1)\n",
    "\n",
    "# plot tumor growth\n",
    "plt.plot(sol.t, sol.y[0])\n",
    "plt.xlabel('t (days)')\n",
    "plt.ylabel(\"Tumor burden\")\n",
    "\n",
    "\n",
    "plt.title(\"Tumor Growth\")\n",
    "plt.tight_layout()\n",
    "plt.show()\n"
   ]
  }
 ],
 "metadata": {
  "kernelspec": {
   "display_name": "Python 3",
   "language": "python",
   "name": "python3"
  },
  "language_info": {
   "codemirror_mode": {
    "name": "ipython",
    "version": 3
   },
   "file_extension": ".py",
   "mimetype": "text/x-python",
   "name": "python",
   "nbconvert_exporter": "python",
   "pygments_lexer": "ipython3",
   "version": "3.10.15"
  }
 },
 "nbformat": 4,
 "nbformat_minor": 2
}
