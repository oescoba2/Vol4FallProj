{
 "cells": [
  {
   "cell_type": "code",
   "execution_count": 1,
   "metadata": {},
   "outputs": [],
   "source": [
    "import numpy as np\n",
    "import matplotlib.pyplot as plt\n",
    "from numpy import linalg as la\n",
    "from scipy.integrate import solve_ivp\n",
    "from scipy import sparse\n",
    "from scipy.integrate import solve_bvp\n",
    "from matplotlib.pyplot import figure\n",
    "%matplotlib inline\n",
    "\n",
    "import matplotlib.animation as animation\n"
   ]
  },
  {
   "cell_type": "code",
   "execution_count": 2,
   "metadata": {},
   "outputs": [],
   "source": [
    "def GompertzFE(t,k,Tmax,x0):\n",
    "    \"\"\" Numerically approximates the x value from IVP: \n",
    "    \n",
    "    T' = k*T*ln(Tmax/T)\n",
    "    \n",
    "    using the Forward Euler method. \n",
    "    Parameters:\n",
    "        t ((n,)ndarray): The time values\n",
    "        k (float): The rate of tumor growth\n",
    "        Tmax (float): The maximum Tumor Burden \n",
    "        x0 (float): The initial condition\n",
    "    Returns:\n",
    "        T ((n,) ndarray): The tumor burden\n",
    "    \"\"\"\n",
    "    # Define h, X and X0 \n",
    "    ht = abs(t[0] - t[1])\n",
    "    # Initialize T as all zeros\n",
    "    T = np.zeros(len(t))\n",
    "    T[0] = x0\n",
    "    # Calculate U \n",
    "    for j in range(len(t)-1):\n",
    "        T[j+1] = T[j] + ht*k*T[j]*np.log(Tmax/T[j])\n",
    "    return T\n",
    "\n"
   ]
  },
  {
   "cell_type": "markdown",
   "metadata": {},
   "source": [
    "We modified the growth rate to near carrying capacity around 2 years after the start of untreated breast cancer. "
   ]
  },
  {
   "cell_type": "code",
   "execution_count": 3,
   "metadata": {},
   "outputs": [
    {
     "data": {
      "image/png": "[encoded data removed]",
      "text/plain": [
       "<Figure size 640x480 with 1 Axes>"
      ]
     },
     "metadata": {},
     "output_type": "display_data"
    }
   ],
   "source": [
    "# define the ODE function\n",
    "def gompertz(t, y, k, T_max):\n",
    "    '''defines the ODE system'''\n",
    "    T = y\n",
    "    return np.array([k*T*np.log(T_max / T)])\n",
    "\n",
    "\n",
    "# the time domain.\n",
    "t_span = (0,1000)\n",
    "\n",
    "# initial guess\n",
    "y0 = np.array([4.64e6]) # nephi calculated this\n",
    "\n",
    "# solve the system\n",
    "a = 1/150\n",
    "T_max = 1/(1.02e-9)\n",
    "sol = solve_ivp(gompertz, t_span, y0, args=[a, T_max], max_step=0.1)\n",
    "\n",
    "# plot\n",
    "plt.plot(sol.t, sol.y[0])\n",
    "plt.xlabel('t (days)')\n",
    "plt.ylabel(\"Tumor burden\")\n",
    "\n",
    "plt.title(\"Gompertz growth\")\n",
    "plt.tight_layout()\n",
    "plt.show()"
   ]
  },
  {
   "cell_type": "markdown",
   "metadata": {},
   "source": [
    "Include up to 14 chemotreatments. Do 1 round each 2 weeks"
   ]
  },
  {
   "cell_type": "code",
   "execution_count": null,
   "metadata": {},
   "outputs": [
    {
     "name": "stderr",
     "output_type": "stream",
     "text": [
      "/var/folders/zl/1w6b2xdd3k1djjqk561_wwr40000gr/T/ipykernel_24372/621512125.py:11: RuntimeWarning: invalid value encountered in log\n",
      "  gompertz = a*T*np.log(T_max / T)\n",
      "/var/folders/zl/1w6b2xdd3k1djjqk561_wwr40000gr/T/ipykernel_24372/621512125.py:12: RuntimeWarning: invalid value encountered in scalar power\n",
      "  D = d * ((L/T)**lam)/(s + (L/T)**lam) * T\n"
     ]
    },
    {
     "ename": "KeyboardInterrupt",
     "evalue": "",
     "output_type": "error",
     "traceback": [
      "\u001b[0;31m---------------------------------------------------------------------------\u001b[0m",
      "\u001b[0;31mKeyboardInterrupt\u001b[0m                         Traceback (most recent call last)",
      "Cell \u001b[0;32mIn[44], line 63\u001b[0m\n\u001b[1;32m     58\u001b[0m y0 \u001b[38;5;241m=\u001b[39m np\u001b[38;5;241m.\u001b[39marray([\u001b[38;5;241m4.64e7\u001b[39m, \u001b[38;5;241m2e3\u001b[39m, \u001b[38;5;241m4e3\u001b[39m]) \u001b[38;5;66;03m# Tumor burden, Nk cells, CD8 cells\u001b[39;00m\n\u001b[1;32m     60\u001b[0m \u001b[38;5;66;03m#############\u001b[39;00m\n\u001b[1;32m     61\u001b[0m \u001b[38;5;66;03m# solve the system\u001b[39;00m\n\u001b[1;32m     62\u001b[0m \u001b[38;5;66;03m#############\u001b[39;00m\n\u001b[0;32m---> 63\u001b[0m sol \u001b[38;5;241m=\u001b[39m solve_ivp(breast_cancer_ode, t_span, y0, args\u001b[38;5;241m=\u001b[39m[a, T_max, mu, gamma, alpha, d, s, lam, sigma, f, g, h, p, m, j, k, q, r, chemo_days], max_step\u001b[38;5;241m=\u001b[39m\u001b[38;5;241m0.8\u001b[39m)\n\u001b[1;32m     65\u001b[0m \u001b[38;5;66;03m#############\u001b[39;00m\n\u001b[1;32m     66\u001b[0m \u001b[38;5;66;03m# plot tumor growth\u001b[39;00m\n\u001b[1;32m     67\u001b[0m plt\u001b[38;5;241m.\u001b[39mplot(sol\u001b[38;5;241m.\u001b[39mt, sol\u001b[38;5;241m.\u001b[39my[\u001b[38;5;241m0\u001b[39m])\n",
      "File \u001b[0;32m~/anaconda3/lib/python3.11/site-packages/scipy/integrate/_ivp/ivp.py:602\u001b[0m, in \u001b[0;36msolve_ivp\u001b[0;34m(fun, t_span, y0, method, t_eval, dense_output, events, vectorized, args, **options)\u001b[0m\n\u001b[1;32m    600\u001b[0m status \u001b[38;5;241m=\u001b[39m \u001b[38;5;28;01mNone\u001b[39;00m\n\u001b[1;32m    601\u001b[0m \u001b[38;5;28;01mwhile\u001b[39;00m status \u001b[38;5;129;01mis\u001b[39;00m \u001b[38;5;28;01mNone\u001b[39;00m:\n\u001b[0;32m--> 602\u001b[0m     message \u001b[38;5;241m=\u001b[39m solver\u001b[38;5;241m.\u001b[39mstep()\n\u001b[1;32m    604\u001b[0m     \u001b[38;5;28;01mif\u001b[39;00m solver\u001b[38;5;241m.\u001b[39mstatus \u001b[38;5;241m==\u001b[39m \u001b[38;5;124m'\u001b[39m\u001b[38;5;124mfinished\u001b[39m\u001b[38;5;124m'\u001b[39m:\n\u001b[1;32m    605\u001b[0m         status \u001b[38;5;241m=\u001b[39m \u001b[38;5;241m0\u001b[39m\n",
      "File \u001b[0;32m~/anaconda3/lib/python3.11/site-packages/scipy/integrate/_ivp/base.py:197\u001b[0m, in \u001b[0;36mOdeSolver.step\u001b[0;34m(self)\u001b[0m\n\u001b[1;32m    195\u001b[0m \u001b[38;5;28;01melse\u001b[39;00m:\n\u001b[1;32m    196\u001b[0m     t \u001b[38;5;241m=\u001b[39m \u001b[38;5;28mself\u001b[39m\u001b[38;5;241m.\u001b[39mt\n\u001b[0;32m--> 197\u001b[0m     success, message \u001b[38;5;241m=\u001b[39m \u001b[38;5;28mself\u001b[39m\u001b[38;5;241m.\u001b[39m_step_impl()\n\u001b[1;32m    199\u001b[0m     \u001b[38;5;28;01mif\u001b[39;00m \u001b[38;5;129;01mnot\u001b[39;00m success:\n\u001b[1;32m    200\u001b[0m         \u001b[38;5;28mself\u001b[39m\u001b[38;5;241m.\u001b[39mstatus \u001b[38;5;241m=\u001b[39m \u001b[38;5;124m'\u001b[39m\u001b[38;5;124mfailed\u001b[39m\u001b[38;5;124m'\u001b[39m\n",
      "File \u001b[0;32m~/anaconda3/lib/python3.11/site-packages/scipy/integrate/_ivp/rk.py:144\u001b[0m, in \u001b[0;36mRungeKutta._step_impl\u001b[0;34m(self)\u001b[0m\n\u001b[1;32m    141\u001b[0m h \u001b[38;5;241m=\u001b[39m t_new \u001b[38;5;241m-\u001b[39m t\n\u001b[1;32m    142\u001b[0m h_abs \u001b[38;5;241m=\u001b[39m np\u001b[38;5;241m.\u001b[39mabs(h)\n\u001b[0;32m--> 144\u001b[0m y_new, f_new \u001b[38;5;241m=\u001b[39m rk_step(\u001b[38;5;28mself\u001b[39m\u001b[38;5;241m.\u001b[39mfun, t, y, \u001b[38;5;28mself\u001b[39m\u001b[38;5;241m.\u001b[39mf, h, \u001b[38;5;28mself\u001b[39m\u001b[38;5;241m.\u001b[39mA,\n\u001b[1;32m    145\u001b[0m                        \u001b[38;5;28mself\u001b[39m\u001b[38;5;241m.\u001b[39mB, \u001b[38;5;28mself\u001b[39m\u001b[38;5;241m.\u001b[39mC, \u001b[38;5;28mself\u001b[39m\u001b[38;5;241m.\u001b[39mK)\n\u001b[1;32m    146\u001b[0m scale \u001b[38;5;241m=\u001b[39m atol \u001b[38;5;241m+\u001b[39m np\u001b[38;5;241m.\u001b[39mmaximum(np\u001b[38;5;241m.\u001b[39mabs(y), np\u001b[38;5;241m.\u001b[39mabs(y_new)) \u001b[38;5;241m*\u001b[39m rtol\n\u001b[1;32m    147\u001b[0m error_norm \u001b[38;5;241m=\u001b[39m \u001b[38;5;28mself\u001b[39m\u001b[38;5;241m.\u001b[39m_estimate_error_norm(\u001b[38;5;28mself\u001b[39m\u001b[38;5;241m.\u001b[39mK, h, scale)\n",
      "File \u001b[0;32m~/anaconda3/lib/python3.11/site-packages/scipy/integrate/_ivp/rk.py:63\u001b[0m, in \u001b[0;36mrk_step\u001b[0;34m(fun, t, y, f, h, A, B, C, K)\u001b[0m\n\u001b[1;32m     61\u001b[0m K[\u001b[38;5;241m0\u001b[39m] \u001b[38;5;241m=\u001b[39m f\n\u001b[1;32m     62\u001b[0m \u001b[38;5;28;01mfor\u001b[39;00m s, (a, c) \u001b[38;5;129;01min\u001b[39;00m \u001b[38;5;28menumerate\u001b[39m(\u001b[38;5;28mzip\u001b[39m(A[\u001b[38;5;241m1\u001b[39m:], C[\u001b[38;5;241m1\u001b[39m:]), start\u001b[38;5;241m=\u001b[39m\u001b[38;5;241m1\u001b[39m):\n\u001b[0;32m---> 63\u001b[0m     dy \u001b[38;5;241m=\u001b[39m np\u001b[38;5;241m.\u001b[39mdot(K[:s]\u001b[38;5;241m.\u001b[39mT, a[:s]) \u001b[38;5;241m*\u001b[39m h\n\u001b[1;32m     64\u001b[0m     K[s] \u001b[38;5;241m=\u001b[39m fun(t \u001b[38;5;241m+\u001b[39m c \u001b[38;5;241m*\u001b[39m h, y \u001b[38;5;241m+\u001b[39m dy)\n\u001b[1;32m     66\u001b[0m y_new \u001b[38;5;241m=\u001b[39m y \u001b[38;5;241m+\u001b[39m h \u001b[38;5;241m*\u001b[39m np\u001b[38;5;241m.\u001b[39mdot(K[:\u001b[38;5;241m-\u001b[39m\u001b[38;5;241m1\u001b[39m]\u001b[38;5;241m.\u001b[39mT, B)\n",
      "File \u001b[0;32m<__array_function__ internals>:180\u001b[0m, in \u001b[0;36mdot\u001b[0;34m(*args, **kwargs)\u001b[0m\n",
      "\u001b[0;31mKeyboardInterrupt\u001b[0m: "
     ]
    }
   ],
   "source": [
    "# define the ODE function\n",
    "def breast_cancer_ode(t, y, a, T_max, mu, gamma, alpha, d, s, lam, sigma, f, g, h, p, m, j, k, q, r, chemo_times):\n",
    "    \"\"\" Model for breast cancer growth dependent on chemotherapy and 2 different immune system\n",
    "    cells.\n",
    "\n",
    "    Parameters:\n",
    "\n",
    "    \n",
    "    \"\"\"\n",
    "    T, N, L = y\n",
    "    gompertz = a*T*np.log(T_max / T)\n",
    "    D = d * ((L/T)**lam)/(s + (L/T)**lam) * T\n",
    "\n",
    "    # chemo treatment times\n",
    "    chemo_term = 0\n",
    "    for day in chemo_times:\n",
    "        if t >= day:\n",
    "            t_since_start = t - day\n",
    "            ct = np.exp(-gamma*(t_since_start))\n",
    "            chemo_term += mu*ct*T\n",
    "\n",
    "    eqT = None\n",
    "    if T <= 0: \n",
    "        eqT = 0\n",
    "    else:\n",
    "        eqT = gompertz - chemo_term - alpha*N*T - D\n",
    "    eqN = sigma - f*N + N*(g*T**2)/(h + T**2) - p*N*T - 0.001*chemo_term*N\n",
    "    eqL = -m*L +  L*(j*D**2)/(k+D**2) - q*L*T + r*N*T - 0.001*chemo_term*L\n",
    "    return np.array([eqT, eqN, eqL])\n",
    "\n",
    "##########\n",
    "# Choose model parameters\n",
    "##########\n",
    "a, T_max = 1/90, 1/(1.023e-9) # gompertz parameters\n",
    "\n",
    "mu, gamma = 0.9, 0.92 # chemotherapy parameters\n",
    "t_c = 100 # time we start chemotherapy\n",
    "\n",
    "alpha = 3.23e-7 # name for 'c' the kill rate of untrained killer cells\n",
    "\n",
    "d, s, lam = 5.80, 2.5e-1, 1.36 # parameters for D\n",
    "\n",
    "# parameters for derivative of N, number of killer cells\n",
    "sigma, f, g, h, p = 1.3e4, 4.12e-2, 2.5e-2, 2.02e7, 1e-7\n",
    "\n",
    "# parameters for derivative of L, the CD8 cells\n",
    "m, j, k, q, r = 2e-2, 3.75e-2, 2e7, 3.42e-10, 1.1e-7\n",
    "\n",
    "# chemo treatment days\n",
    "n_treatments = 8\n",
    "days_between_treatments = 21\n",
    "chemo_days = np.arange(60, 60+days_between_treatments*n_treatments, days_between_treatments)\n",
    "\n",
    "\n",
    "# the time domain and initial guess\n",
    "n_years = 1\n",
    "t_span = (0.1, 365*n_years) # 1 years\n",
    "y0 = np.array([4.64e7, 2e3, 4e3]) # Tumor burden, Nk cells, CD8 cells\n",
    "\n",
    "#############\n",
    "# solve the system\n",
    "#############\n",
    "sol = solve_ivp(breast_cancer_ode, t_span, y0, args=[a, T_max, mu, gamma, alpha, d, s, lam, sigma, f, g, h, p, m, j, k, q, r, chemo_days], max_step=0.8)\n",
    "\n",
    "#############\n",
    "# Plot\n",
    "#############\n",
    "# plot tumor growth\n",
    "plt.plot(sol.t, sol.y[0])\n",
    "plt.xlabel('t (days)')\n",
    "plt.ylabel(\"Tumor burden\")\n",
    "\n",
    "for x in chemo_days:\n",
    "    plt.axvline(x=x, color='red', linestyle='--')\n",
    "\n",
    "\n",
    "plt.title(\"Tumor Growth\")\n",
    "plt.tight_layout()\n",
    "plt.show()\n",
    "\n",
    "# plot killer  cell growth\n",
    "plt.plot(sol.t, sol.y[2])\n",
    "plt.xlabel('t (days)')\n",
    "plt.ylabel(\"Killer cells\")\n",
    "\n",
    "for x in chemo_days:\n",
    "    plt.axvline(x=x, color='red', linestyle='--')\n",
    "plt.title(\"Immune Growth\")\n",
    "plt.tight_layout()\n",
    "plt.show()"
   ]
  },
  {
   "cell_type": "code",
   "execution_count": null,
   "metadata": {},
   "outputs": [],
   "source": []
  }
 ],
 "metadata": {
  "kernelspec": {
   "display_name": "base",
   "language": "python",
   "name": "python3"
  },
  "language_info": {
   "codemirror_mode": {
    "name": "ipython",
    "version": 3
   },
   "file_extension": ".py",
   "mimetype": "text/x-python",
   "name": "python",
   "nbconvert_exporter": "python",
   "pygments_lexer": "ipython3",
   "version": "3.11.5"
  }
 },
 "nbformat": 4,
 "nbformat_minor": 2
}
